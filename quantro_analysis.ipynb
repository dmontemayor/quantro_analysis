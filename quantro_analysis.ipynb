{
 "cells": [
  {
   "cell_type": "markdown",
   "metadata": {},
   "source": [
    "The R package `quantro` is available from [bioconda](https://anaconda.org/bioconda/bioconductor-quantro)"
   ]
  },
  {
   "cell_type": "code",
   "execution_count": 1,
   "metadata": {
    "scrolled": true
   },
   "outputs": [
    {
     "ename": "ERROR",
     "evalue": "Error: package or namespace load failed for ‘quantro’ in dyn.load(file, DLLpath = DLLpath, ...):\n unable to load shared object '/anaconda3/lib/R/library/RCurl/libs/RCurl.so':\n  dlopen(/anaconda3/lib/R/library/RCurl/libs/RCurl.so, 6): Library not loaded: @rpath/libgssapi_krb5.2.2.dylib\n  Referenced from: /anaconda3/lib/R/library/RCurl/libs/RCurl.so\n  Reason: image not found\n",
     "output_type": "error",
     "traceback": [
      "Error: package or namespace load failed for ‘quantro’ in dyn.load(file, DLLpath = DLLpath, ...):\n unable to load shared object '/anaconda3/lib/R/library/RCurl/libs/RCurl.so':\n  dlopen(/anaconda3/lib/R/library/RCurl/libs/RCurl.so, 6): Library not loaded: @rpath/libgssapi_krb5.2.2.dylib\n  Referenced from: /anaconda3/lib/R/library/RCurl/libs/RCurl.so\n  Reason: image not found\nTraceback:\n",
      "1. library(quantro)",
      "2. tryCatch({\n .     attr(package, \"LibPath\") <- which.lib.loc\n .     ns <- loadNamespace(package, lib.loc)\n .     env <- attachNamespace(ns, pos = pos, deps)\n . }, error = function(e) {\n .     P <- if (!is.null(cc <- conditionCall(e))) \n .         paste(\" in\", deparse(cc)[1L])\n .     else \"\"\n .     msg <- gettextf(\"package or namespace load failed for %s%s:\\n %s\", \n .         sQuote(package), P, conditionMessage(e))\n .     if (logical.return) \n .         message(paste(\"Error:\", msg), domain = NA)\n .     else stop(msg, call. = FALSE, domain = NA)\n . })",
      "3. tryCatchList(expr, classes, parentenv, handlers)",
      "4. tryCatchOne(expr, names, parentenv, handlers[[1L]])",
      "5. value[[3L]](cond)",
      "6. stop(msg, call. = FALSE, domain = NA)"
     ]
    }
   ],
   "source": [
    "\n",
    "library(quantro)"
   ]
  },
  {
   "cell_type": "code",
   "execution_count": null,
   "metadata": {},
   "outputs": [],
   "source": []
  }
 ],
 "metadata": {
  "kernelspec": {
   "display_name": "R",
   "language": "R",
   "name": "ir"
  },
  "language_info": {
   "codemirror_mode": "r",
   "file_extension": ".r",
   "mimetype": "text/x-r-source",
   "name": "R",
   "pygments_lexer": "r",
   "version": "3.4.1"
  }
 },
 "nbformat": 4,
 "nbformat_minor": 2
}
